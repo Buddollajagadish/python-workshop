{
 "cells": [
  {
   "cell_type": "markdown",
   "metadata": {
    "slideshow": {
     "slide_type": "slide"
    }
   },
   "source": [
    "<div style=\"width:1000 px\">\n",
    "\n",
    "<div style=\"float:right; width:98 px; height:98px;\">\n",
    "<img src=\"https://raw.githubusercontent.com/Unidata/MetPy/master/metpy/plots/_static/unidata_150x150.png\" alt=\"Unidata Logo\" style=\"height: 98px;\">\n",
    "</div>\n",
    "\n",
    "<h1>Geoscience visualization with Matplotlib and CartoPy</h1>\n",
    "<h3>Unidata Python Workshop</h3>\n",
    "\n",
    "<div style=\"clear:both\"></div>\n",
    "</div>\n",
    "\n",
    "<hr style=\"height:2px;\">\n",
    "\n",
    "<div style=\"float:right; width:250 px\"><img src=\"http://scitools.org.uk/cartopy/docs/latest/_images/barbs_00_00.png\" alt=\"Example Map Image\" style=\"height: 300px;\"></div>\n",
    "\n",
    "- Sophisticated 2D and 3D plotting library.\n",
    "- We'll give you a taste of the possibilities, but covering < 1%.\n",
    "- Mature and can produce publication quality graphics.\n",
    "- Static images, nothing interactive yet.\n",
    "- We'll focus on geoscience, but matplotlib can likely meet most of your scientific plotting requirements.\n",
    "- The best is to find an example of what you want in a [gallery](http://matplotlib.org/gallery.html) and emulate that.\n"
   ]
  },
  {
   "cell_type": "markdown",
   "metadata": {
    "slideshow": {
     "slide_type": "subslide"
    }
   },
   "source": [
    "## Some CartoPy examples to whet your appetite\n",
    "\n",
    "Reference: http://scitools.org.uk/cartopy/docs/latest/gallery.html"
   ]
  },
  {
   "cell_type": "markdown",
   "metadata": {
    "slideshow": {
     "slide_type": "subslide"
    }
   },
   "source": [
    "![Basic Map](http://scitools.org.uk/cartopy/docs/latest/_images/global_map_00_00.png)"
   ]
  },
  {
   "cell_type": "markdown",
   "metadata": {
    "slideshow": {
     "slide_type": "subslide"
    }
   },
   "source": [
    "![Barbs Map](http://scitools.org.uk/cartopy/docs/latest/_images/barbs_00_00.png)"
   ]
  },
  {
   "cell_type": "markdown",
   "metadata": {
    "slideshow": {
     "slide_type": "subslide"
    }
   },
   "source": [
    "![Contour Map](http://scitools.org.uk/cartopy/docs/latest/_images/waves_00_00.png)"
   ]
  },
  {
   "cell_type": "markdown",
   "metadata": {
    "slideshow": {
     "slide_type": "slide"
    }
   },
   "source": [
    "## Plotting netCDF data\n",
    "\n",
    "### Basic Plot\n",
    "\n",
    "- Plotting temperature as a function of depth as predicted by the RTOFS model"
   ]
  },
  {
   "cell_type": "code",
   "execution_count": null,
   "metadata": {
    "slideshow": {
     "slide_type": "subslide"
    }
   },
   "outputs": [],
   "source": [
    "# Importing libraries we will need.\n",
    "import netCDF4\n",
    "%matplotlib inline\n",
    "import matplotlib.pyplot as plt\n",
    "import numpy as np"
   ]
  },
  {
   "cell_type": "code",
   "execution_count": null,
   "metadata": {
    "slideshow": {
     "slide_type": "subslide"
    }
   },
   "outputs": [],
   "source": [
    "# Open the netCDF file\n",
    "f = netCDF4.Dataset('../../data/rtofs_glo_3dz_f006_6hrly_reg3.nc', 'r')\n",
    "\n",
    "# Getting the n-dimensional data\n",
    "tempv = f.variables['temperature']\n",
    "depth = f.variables['Depth']\n",
    "\n",
    "print(\"The temperature variable...\\n\")\n",
    "# Note the temperature variable has time, depth, y and x dimensions\n",
    "print(tempv)\n",
    "print(\"The dimensions...\\n\")\n",
    "print(tempv.dimensions)"
   ]
  },
  {
   "cell_type": "code",
   "execution_count": null,
   "metadata": {
    "slideshow": {
     "slide_type": "subslide"
    }
   },
   "outputs": [],
   "source": [
    "# Continued from previous cell..\n",
    "\n",
    "# Our goal is temperature as a function of depth so slicing along the depth axis\n",
    "# at a specific time and place\n",
    "temp = tempv[0, :, 123, 486]\n",
    "\n",
    "# Masked arrays are arrays that have bad values idenitifed by the mask array.\n",
    "print(\"The masked array containing the temperature data...\")\n",
    "print(repr(temp))\n",
    "\n",
    "# trick for filtering out good values\n",
    "x = temp[~temp.mask] \n",
    "y = depth[~temp.mask]\n",
    "\n",
    "# plot and show data\n",
    "plt.plot(y, x)\n",
    "\n",
    "# close netCDF\n",
    "f.close()"
   ]
  },
  {
   "cell_type": "markdown",
   "metadata": {
    "slideshow": {
     "slide_type": "subslide"
    }
   },
   "source": [
    "### Let's build upon the previous plot into something that is ready for publication.\n",
    "\n",
    "- Title\n",
    "- Axis Legends\n",
    "- Markers\n",
    "\n",
    "[Peruse matplotlib gallery](http://matplotlib.org/gallery.html) and see and \n",
    "emulate what you like."
   ]
  },
  {
   "cell_type": "code",
   "execution_count": null,
   "metadata": {
    "slideshow": {
     "slide_type": "subslide"
    }
   },
   "outputs": [],
   "source": [
    "# Adding text, adjusting borders, and figure size\n",
    "# Get figure hook to manipulate our plot\n",
    "fig = plt.figure()\n",
    "desc ='Figure 1. Temperature as a function of ocean depth as\\n'\\\n",
    "    'predicted by the RTOFS model'\n",
    "# Adding our description\n",
    "plt.figtext(.5, .15, desc, fontsize=12, ha='center')\n",
    "#adjust margin\n",
    "fig.subplots_adjust(bottom=0.35)\n",
    "#adjust figure size\n",
    "fig.set_size_inches(7, 7)\n",
    "\n",
    "# Improve axes\n",
    "# Get axis hook to manipulate our plot\n",
    "ax = fig.add_subplot(1, 1, 1)\n",
    "# Add axis labels\n",
    "ax.set_xlabel('Depth (m)', fontweight='bold')\n",
    "# \\u00b0 : degree symbol\n",
    "ax.set_ylabel(u'Temperature (\\u00b0C)', fontweight='bold')\n",
    "# Don't show top and right axis\n",
    "ax.spines[\"right\"].set_visible(False)\n",
    "ax.spines[\"top\"].set_visible(False)\n",
    "# Define ticks\n",
    "ax.tick_params(axis='both', direction='out')\n",
    "ax.get_xaxis().tick_bottom() # remove unneeded ticks \n",
    "ax.get_yaxis().tick_left()\n",
    "\n",
    "# Getting the data as we did before\n",
    "f = netCDF4.Dataset('../../data/rtofs_glo_3dz_f006_6hrly_reg3.nc', 'r')\n",
    "tempv = f.variables['temperature']\n",
    "depth = f.variables['Depth']\n",
    "temp = tempv[0,:,123,486]\n",
    "x = temp[~temp.mask] #trick for getting data\n",
    "y = depth[~temp.mask]\n",
    "\n",
    "# Plotting line with triangle markers, and red line color.\n",
    "plt.plot(y, x, marker=r'^', color='r', markersize=10,\n",
    "         clip_on=False, linewidth=2.0)\n",
    "plt.show()\n",
    "f.close()"
   ]
  },
  {
   "cell_type": "markdown",
   "metadata": {
    "slideshow": {
     "slide_type": "subslide"
    }
   },
   "source": [
    "## *Exercise*\n",
    "\n",
    "- Create a new notebook cell here.\n",
    "- Based on cell above, plot salinity as a function of depth.\n",
    "- Try using a different marker.\n",
    "- Try using a different line color.\n"
   ]
  },
  {
   "cell_type": "markdown",
   "metadata": {
    "slideshow": {
     "slide_type": "slide"
    }
   },
   "source": [
    "# CartoPy"
   ]
  },
  {
   "cell_type": "markdown",
   "metadata": {
    "slideshow": {
     "slide_type": "fragment"
    }
   },
   "source": [
    "- High level API for dealing with maps\n",
    "- CartoPy allows you to plot data on a 2D map.\n",
    "- Support many different map projections\n",
    "- Support for shapefiles from the GIS world"
   ]
  },
  {
   "cell_type": "code",
   "execution_count": null,
   "metadata": {
    "slideshow": {
     "slide_type": "subslide"
    }
   },
   "outputs": [],
   "source": [
    "# Importing CartoPy\n",
    "import cartopy\n",
    "ccrs = cartopy.crs\n",
    "\n",
    "# Works with matplotlib's built-in transform support.\n",
    "fig = plt.figure(figsize=(10, 8))\n",
    "ax = fig.add_subplot(1, 1, 1, projection=ccrs.Mercator())\n",
    "\n",
    "# Sets the extent to cover the whole globe\n",
    "ax.set_global()\n",
    "\n",
    "# Adds standard background map\n",
    "ax.stock_img()"
   ]
  },
  {
   "cell_type": "markdown",
   "metadata": {
    "slideshow": {
     "slide_type": "slide"
    }
   },
   "source": [
    "Cartopy also has a lot of built-in support for a variety of map features:"
   ]
  },
  {
   "cell_type": "code",
   "execution_count": null,
   "metadata": {
    "slideshow": {
     "slide_type": "fragment"
    }
   },
   "outputs": [],
   "source": [
    "fig = plt.figure(figsize=(10, 8))\n",
    "ax = fig.add_subplot(1, 1, 1, projection=ccrs.PlateCarree())\n",
    "\n",
    "# Add variety of features\n",
    "ax.add_feature(cartopy.feature.LAND)\n",
    "ax.add_feature(cartopy.feature.OCEAN)\n",
    "ax.add_feature(cartopy.feature.COASTLINE)\n",
    "\n",
    "# Can also supply matplotlib kwargs\n",
    "ax.add_feature(cartopy.feature.BORDERS, linestyle=':')\n",
    "ax.add_feature(cartopy.feature.LAKES, alpha=0.5)\n",
    "ax.add_feature(cartopy.feature.RIVERS)\n",
    "\n",
    "# Set limits in lat/lon space\n",
    "ax.set_extent([-140, -60, 25, 50])"
   ]
  },
  {
   "cell_type": "markdown",
   "metadata": {
    "slideshow": {
     "slide_type": "subslide"
    }
   },
   "source": [
    "You can also grab other features from the Natural Earth project: http://www.naturalearthdata.com/"
   ]
  },
  {
   "cell_type": "code",
   "execution_count": null,
   "metadata": {
    "scrolled": true,
    "slideshow": {
     "slide_type": "fragment"
    }
   },
   "outputs": [],
   "source": [
    "fig = plt.figure(figsize=(10, 8))\n",
    "ax = fig.add_subplot(1, 1, 1, projection=ccrs.PlateCarree())\n",
    "\n",
    "ax.add_feature(cartopy.feature.LAND)\n",
    "ax.add_feature(cartopy.feature.OCEAN)\n",
    "ax.add_feature(cartopy.feature.COASTLINE)\n",
    "ax.add_feature(cartopy.feature.BORDERS, linestyle=':')\n",
    "\n",
    "# Grab state borders\n",
    "state_borders = cartopy.feature.NaturalEarthFeature(\n",
    "    category='cultural', name='admin_1_states_provinces_lakes',\n",
    "    scale='50m', facecolor='none') \n",
    "\n",
    "ax.add_feature(state_borders, linestyle=\"--\", edgecolor='blue')\n",
    "\n",
    "# Set limits in lat/lon space\n",
    "ax.set_extent([-140, -60, 25, 50])"
   ]
  },
  {
   "cell_type": "markdown",
   "metadata": {
    "slideshow": {
     "slide_type": "subslide"
    }
   },
   "source": [
    "You can also use Cartopy's built in shapefile reader (built on `pyshp`) to read geometry from shapefile and plot."
   ]
  },
  {
   "cell_type": "code",
   "execution_count": null,
   "metadata": {
    "slideshow": {
     "slide_type": "fragment"
    }
   },
   "outputs": [],
   "source": [
    "fig = plt.figure(figsize=(10, 8))\n",
    "#proj = ccrs.LambertConformal(central_latitude=40,\n",
    "#                             central_longitude=-105)\n",
    "proj = ccrs.PlateCarree()\n",
    "ax = fig.add_subplot(1, 1, 1, projection=proj)\n",
    "\n",
    "# Open counties shapefile and plot geometry\n",
    "counties = cartopy.io.shapereader.Reader('../../data/counties.shp')\n",
    "ax.add_geometries(counties.geometries(), ccrs.PlateCarree(),\n",
    "                  edgecolor='grey', facecolor='None')\n",
    "\n",
    "# Find Boulder county and plot\n",
    "boulder = [county.geometry for county in counties.records()\n",
    "           if county.attributes['NAME'] == 'Boulder']\n",
    "ax.add_geometries(boulder, ccrs.PlateCarree(),\n",
    "                  edgecolor='blue', facecolor='lightblue')\n",
    "\n",
    "# Re-use state borders from above\n",
    "ax.add_feature(state_borders, edgecolor='black', linewidth=2)\n",
    "\n",
    "# Add topo\n",
    "im = plt.imread('../../data/colorado_blue_marble.jpg')\n",
    "ax.imshow(im, interpolation='None', extent=(-110, -101, 36, 42),\n",
    "          transform=ccrs.PlateCarree())\n",
    "\n",
    "# Set limits in lat/lon space\n",
    "ax.set_extent([-110, -101, 36, 42])"
   ]
  },
  {
   "cell_type": "markdown",
   "metadata": {
    "slideshow": {
     "slide_type": "subslide"
    }
   },
   "source": [
    "- Plotting data works with the set projection by specifying the transform for the data when plotting.\n",
    "- CartoPy will take care of any needed interpolation and transformation.\n",
    "- Two lat/lon source projections:\n",
    "  - Plate Carree projection (Equi-rectangular projection) not on sphere\n",
    "  - Geodetic projection treats points as on the sphere"
   ]
  },
  {
   "cell_type": "code",
   "execution_count": null,
   "metadata": {
    "slideshow": {
     "slide_type": "subslide"
    }
   },
   "outputs": [],
   "source": [
    "# This shows the difference between Geodetic and Plate Carree\n",
    "fig = plt.figure(figsize=(12,8))\n",
    "ax = fig.add_subplot(1, 1, 1, projection=ccrs.Robinson())\n",
    "ax.set_global()\n",
    "ax.stock_img()\n",
    "ax.coastlines()\n",
    "\n",
    "# Plot circle with and without specifying the transform\n",
    "ax.plot(-105.295175, 40.013176, 'o')\n",
    "ax.plot(-105.295175, 40.013176, 'ro', transform=ccrs.Geodetic())\n",
    "\n",
    "# Plot line between two points using both equi-rectangular and geodetic\n",
    "plt.plot([-0.08, 132.], [51.53, 43.17], 'r',\n",
    "         transform=ccrs.PlateCarree())\n",
    "plt.plot([-0.08, 132.], [51.53, 43.17], 'g',\n",
    "         transform=ccrs.Geodetic())"
   ]
  },
  {
   "cell_type": "markdown",
   "metadata": {
    "slideshow": {
     "slide_type": "subslide"
    }
   },
   "source": [
    "## Exercise"
   ]
  },
  {
   "cell_type": "markdown",
   "metadata": {
    "slideshow": {
     "slide_type": "fragment"
    }
   },
   "source": [
    "Try it yourself: Let's look at those curved flight paths on a map\n",
    "- Pick any projection\n",
    "- Plot a map of the United States with borders, coastlines, and state borders.\n",
    "- Plot lines between Seattle, WA and Orlando, FL\n",
    "    - Plot one straight line on the map (assuming lat/lon are rectangular coordinates)\n",
    "    - Plot same points assuming they come from a sphere"
   ]
  },
  {
   "cell_type": "markdown",
   "metadata": {
    "slideshow": {
     "slide_type": "slide"
    }
   },
   "source": [
    "### Let's plot some data from RTOFS model on a map\n",
    "\n",
    "- Data are coming from the local file system"
   ]
  },
  {
   "cell_type": "code",
   "execution_count": null,
   "metadata": {
    "slideshow": {
     "slide_type": "subslide"
    }
   },
   "outputs": [],
   "source": [
    "# Open and read netCDF variables\n",
    "nc = netCDF4.Dataset('../../data/rtofs_glo_3dz_f006_6hrly_reg3.nc', 'r')\n",
    "tempv = nc.variables['temperature']\n",
    "lat = nc.variables['Latitude'][:]\n",
    "lon = nc.variables['Longitude'][:]\n",
    "data = tempv[0, 0, :, :]\n",
    "\n",
    "# Set up a stereographic projection\n",
    "proj = ccrs.Stereographic(central_latitude=60.,\n",
    "                          central_longitude=-120.)\n",
    "\n",
    "# Construct figure\n",
    "fig = plt.figure(figsize=(10,8))\n",
    "ax = fig.add_subplot(1, 1, 1, projection=proj)\n",
    "\n",
    "# Setting the plot size and text\n",
    "plt.figtext(.3, .15,\n",
    "            'Figure 1. Sea surface temperature as predicted'\n",
    "            ' by the RTOFS model',\n",
    "            fontsize=12, ha='center')\n",
    "\n",
    "# define color map\n",
    "cmap = plt.cm.RdBu_r\n",
    "\n",
    "# Nice high-level, human-readable abstractions for dealing with maps.\n",
    "ax.add_feature(cartopy.feature.LAND)\n",
    "ax.add_feature(cartopy.feature.OCEAN)\n",
    "ax.coastlines(zorder=3)\n",
    "ax.gridlines()\n",
    "\n",
    "# Color-filled contour plot\n",
    "cs = ax.contourf(lon, lat, data, 50, cmap=cmap,\n",
    "                 transform=ccrs.PlateCarree(), zorder=2)\n",
    "\n",
    "# Color bar\n",
    "cbar = plt.colorbar(cs)\n",
    "cbar.set_label(u'\\u00b0C')\n",
    "\n",
    "nc.close()"
   ]
  },
  {
   "cell_type": "markdown",
   "metadata": {
    "slideshow": {
     "slide_type": "subslide"
    }
   },
   "source": [
    "## *Exercise*\n",
    "\n",
    "- Create a new notebook cell here.\n",
    "- Based on cell above, create a plot showing salinity on map.\n",
    "- Try a different [projection](http://matplotlib.org/basemap/users/mapsetup.html).\n",
    "- Try a different [color map](http://matplotlib.org/api/pyplot_summary.html#matplotlib.pyplot.colormaps) [(examples)](http://matplotlib.org/examples/pylab_examples/show_colormaps.html)."
   ]
  },
  {
   "cell_type": "markdown",
   "metadata": {
    "slideshow": {
     "slide_type": "slide"
    }
   },
   "source": [
    "# Accessing and plotting data from the TDS"
   ]
  },
  {
   "cell_type": "markdown",
   "metadata": {
    "slideshow": {
     "slide_type": "subslide"
    }
   },
   "source": [
    "### SST and ICE"
   ]
  },
  {
   "cell_type": "code",
   "execution_count": null,
   "metadata": {
    "slideshow": {
     "slide_type": "subslide"
    }
   },
   "outputs": [],
   "source": [
    "from datetime import datetime\n",
    "date = datetime(2014, 9, 15, 0) # date to plot.\n",
    "\n",
    "# open dataset.\n",
    "#url = 'http://www.ncdc.noaa.gov/thredds/dodsC/OISST-V2-AVHRR_agg'\n",
    "url = 'http://www.esrl.noaa.gov/psd/thredds/dodsC/Aggregations/OISSThires/sst.mean.nc'\n",
    "dataset = netCDF4.Dataset(url)\n",
    "timevar = dataset.variables['time']\n",
    "\n",
    "# find time index for desired date.\n",
    "timeindex = netCDF4.date2index(date, timevar)\n",
    "\n",
    "# read sst.  Will automatically create a masked array using\n",
    "# missing_value variable attribute. 'squeeze out' singleton dimensions.\n",
    "sst = dataset.variables['sst'][timeindex, :].squeeze()\n",
    "\n",
    "# read lats and lons (representing centers of grid boxes).\n",
    "lats = dataset.variables['lat'][:]\n",
    "lons = dataset.variables['lon'][:]\n",
    "\n",
    "# create figure, axes instances.\n",
    "fig = plt.figure(figsize=(20, 10))\n",
    "proj = ccrs.Robinson(central_longitude=-105.)\n",
    "ax = fig.add_axes([0.05, 0.05, 0.9, 0.9], projection=proj)\n",
    "\n",
    "# plot sst--this relies on evenly spaced points\n",
    "bounds = (lons[0], lons[-1], lats[0], lats[-1])\n",
    "im1 = ax.imshow(sst, extent=bounds, interpolation='nearest',\n",
    "                cmap='RdYlBu_r',\n",
    "                transform=ccrs.PlateCarree())\n",
    "\n",
    "# Add gridlines and coastlines\n",
    "ax.gridlines()\n",
    "ax.coastlines('50m')\n",
    "\n",
    "# add colorbar\n",
    "plt.colorbar(im1)\n",
    "\n",
    "# add a title.\n",
    "ax.set_title('Analysis for %s' % date)"
   ]
  },
  {
   "cell_type": "markdown",
   "metadata": {
    "slideshow": {
     "slide_type": "subslide"
    }
   },
   "source": [
    "### Exercise"
   ]
  },
  {
   "cell_type": "markdown",
   "metadata": {
    "slideshow": {
     "slide_type": "fragment"
    }
   },
   "source": [
    "- Modify the last example to add the sea ice analysis to the plot\n",
    "- Try a different projection"
   ]
  }
 ],
 "metadata": {
  "kernelspec": {
   "display_name": "Python 3",
   "language": "python",
   "name": "python3"
  },
  "language_info": {
   "codemirror_mode": {
    "name": "ipython",
    "version": 3
   },
   "file_extension": ".py",
   "mimetype": "text/x-python",
   "name": "python",
   "nbconvert_exporter": "python",
   "pygments_lexer": "ipython3",
   "version": "3.6.6"
  }
 },
 "nbformat": 4,
 "nbformat_minor": 1
}
